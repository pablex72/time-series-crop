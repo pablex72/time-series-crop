{
  "nbformat": 4,
  "nbformat_minor": 0,
  "metadata": {
    "colab": {
      "provenance": [],
      "authorship_tag": "ABX9TyOBKLUIJJSIFSroVaQX/m8D",
      "include_colab_link": true
    },
    "kernelspec": {
      "name": "python3",
      "display_name": "Python 3"
    },
    "language_info": {
      "name": "python"
    }
  },
  "cells": [
    {
      "cell_type": "markdown",
      "metadata": {
        "id": "view-in-github",
        "colab_type": "text"
      },
      "source": [
        "<a href=\"https://colab.research.google.com/github/pablex72/time-series-crop/blob/main/spline_interpolation_crop_only_fill_gaps.ipynb\" target=\"_parent\"><img src=\"https://colab.research.google.com/assets/colab-badge.svg\" alt=\"Open In Colab\"/></a>"
      ]
    },
    {
      "cell_type": "code",
      "execution_count": null,
      "metadata": {
        "id": "5k0gr-kyvzBe"
      },
      "outputs": [],
      "source": [
        "import pandas as pd\n",
        "import numpy as np\n",
        "import matplotlib.pyplot as plt\n",
        "from scipy.interpolate import UnivariateSpline\n",
        "\n",
        "df = pd.read_csv('/content/s2-r2-2019-2022-correct-2.csv')\n",
        "\n",
        "# Convert the \"Date\" column to datetime\n",
        "df[\"Date\"] = pd.to_datetime(df[\"Date\"])\n",
        "\n",
        "# Generate a regular date range with the desired interval\n",
        "start_date = df[\"Date\"].min()\n",
        "end_date = df[\"Date\"].max()\n",
        "date_range = pd.date_range(start=start_date, end=end_date, freq=\"5D\")\n",
        "\n",
        "# Reindex the DataFrame with the new date range\n",
        "df = df.set_index(\"Date\")\n",
        "df = df.reindex(date_range)\n",
        "\n",
        "# Replace missing values with NaN\n",
        "df[\"NDVI\"] = df[\"NDVI\"].replace(0, np.nan)\n",
        "\n",
        "\n",
        "# Interpolate missing values using UnivariateSpline for different values of s\n",
        "x = np.arange(len(df))\n",
        "mask = ~np.isnan(df[\"NDVI\"])\n",
        "s_values = [0.35]\n",
        "interpolated_values = []\n",
        "\n",
        "for s in s_values:\n",
        "    spline = UnivariateSpline(x[mask], df[\"NDVI\"][mask], k=3, s=s)\n",
        "    interpolated_values.append(spline(x))\n",
        "\n",
        "# Reset the index and rename the columns\n",
        "df = df.reset_index()\n",
        "df = df.rename(columns={\"index\": \"Date\"})\n",
        "\n",
        "# Plot the original and interpolated datasets for different values of s\n",
        "plt.figure(figsize=(12, 6))\n",
        "\n",
        "\n",
        "\n",
        "# Plot interpolated datasets for different values of s\n",
        "for i, s in enumerate(s_values):\n",
        "    plt.plot(df[\"Date\"], interpolated_values[i], \"o-\", label=f\"s={s}\")\n",
        "# Plot original data\n",
        "plt.plot(df[\"Date\"], df[\"NDVI\"], \"x-\", label=\"Original\",color =\"yellow\")\n",
        "plt.xlabel(\"Date\")\n",
        "plt.ylabel(\"NDVI\")\n",
        "plt.title(\"Original and Interpolated NDVI Dataset\")\n",
        "plt.xticks(rotation=45)\n",
        "plt.legend()\n",
        "plt.grid(True)\n",
        "plt.tight_layout()\n",
        "plt.show()\n"
      ]
    }
  ]
}